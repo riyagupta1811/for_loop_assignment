{
 "cells": [
  {
   "cell_type": "code",
   "execution_count": 2,
   "id": "9469202c-74fe-467e-be84-bf0e5681567e",
   "metadata": {},
   "outputs": [],
   "source": [
    "#Basic Level"
   ]
  },
  {
   "cell_type": "code",
   "execution_count": 3,
   "id": "1ae3e6eb-5890-4b5f-80f2-99a427c5d8f3",
   "metadata": {},
   "outputs": [],
   "source": [
    "#Question1"
   ]
  },
  {
   "cell_type": "code",
   "execution_count": 4,
   "id": "49959106-5237-4f5f-86a5-af218693eaac",
   "metadata": {},
   "outputs": [
    {
     "name": "stdout",
     "output_type": "stream",
     "text": [
      "1\n",
      "2\n",
      "3\n",
      "4\n",
      "5\n",
      "6\n",
      "7\n",
      "8\n",
      "9\n",
      "10\n"
     ]
    }
   ],
   "source": [
    "for i in range(1,11):\n",
    "    print(i)"
   ]
  },
  {
   "cell_type": "code",
   "execution_count": null,
   "id": "f008c3a4-1d3d-4484-85d7-2eeeb3781871",
   "metadata": {},
   "outputs": [],
   "source": [
    "#Question2"
   ]
  },
  {
   "cell_type": "code",
   "execution_count": 1,
   "id": "e2917d63-3227-4e7b-95af-42dd4f55d7e3",
   "metadata": {},
   "outputs": [
    {
     "name": "stdout",
     "output_type": "stream",
     "text": [
      "20\n"
     ]
    }
   ],
   "source": [
    "sum = 0\n",
    "l = [1,3,4,7,5]\n",
    "for i in range(0,len(l)):\n",
    "    sum = sum + l[i]\n",
    "print(sum)\n",
    "    "
   ]
  },
  {
   "cell_type": "code",
   "execution_count": null,
   "id": "4dcaa483-dc4b-4bca-a0e2-aac5d730983b",
   "metadata": {},
   "outputs": [],
   "source": [
    "#Question3"
   ]
  },
  {
   "cell_type": "code",
   "execution_count": 24,
   "id": "9aac5f1a-3914-436b-9f35-d0a8abc2caf7",
   "metadata": {},
   "outputs": [
    {
     "name": "stdout",
     "output_type": "stream",
     "text": [
      "yppah"
     ]
    }
   ],
   "source": [
    "str = \"happy\"\n",
    "for i in range(len(str)-1,-1,-1):\n",
    "    print(str[i],end=\"\")"
   ]
  },
  {
   "cell_type": "code",
   "execution_count": null,
   "id": "d31d2863-eca8-43c8-9c45-a6deaaaa233d",
   "metadata": {},
   "outputs": [],
   "source": [
    "#Question4"
   ]
  },
  {
   "cell_type": "code",
   "execution_count": 26,
   "id": "0be7b375-d681-4171-96a1-449dd379df60",
   "metadata": {},
   "outputs": [
    {
     "name": "stdin",
     "output_type": "stream",
     "text": [
      "Enter a number:  5\n"
     ]
    },
    {
     "name": "stdout",
     "output_type": "stream",
     "text": [
      "120\n"
     ]
    }
   ],
   "source": [
    "n = int(input(\"Enter a number: \"))\n",
    "multi = 1\n",
    "\n",
    "for i in range(1,n+1):\n",
    "    multi = multi*i\n",
    "print(multi)"
   ]
  },
  {
   "cell_type": "code",
   "execution_count": null,
   "id": "382aed75-08d4-428c-9e57-0d75256e2737",
   "metadata": {},
   "outputs": [],
   "source": [
    "#Question5"
   ]
  },
  {
   "cell_type": "code",
   "execution_count": 27,
   "id": "d4e20b2a-c7fa-489e-ade9-7ce799302f8c",
   "metadata": {},
   "outputs": [
    {
     "name": "stdin",
     "output_type": "stream",
     "text": [
      "Enter a number 5\n"
     ]
    },
    {
     "name": "stdout",
     "output_type": "stream",
     "text": [
      "5 * 1 = 5\n",
      "5 * 2 = 10\n",
      "5 * 3 = 15\n",
      "5 * 4 = 20\n",
      "5 * 5 = 25\n",
      "5 * 6 = 30\n",
      "5 * 7 = 35\n",
      "5 * 8 = 40\n",
      "5 * 9 = 45\n",
      "5 * 10 = 50\n"
     ]
    }
   ],
   "source": [
    "n = int(input(\"Enter a number\"))\n",
    "\n",
    "for i in range(1,11):\n",
    "    table = n*i\n",
    "    print(f\"{n} * {i} = {table}\")"
   ]
  },
  {
   "cell_type": "code",
   "execution_count": null,
   "id": "ae68c1d0-c456-4288-b2b6-b58bc9b5ec6f",
   "metadata": {},
   "outputs": [],
   "source": [
    "#Question6"
   ]
  },
  {
   "cell_type": "code",
   "execution_count": 36,
   "id": "0e49e329-a5be-4b3f-a628-4ce1788c9a6d",
   "metadata": {},
   "outputs": [
    {
     "name": "stdout",
     "output_type": "stream",
     "text": [
      "The number of even numbers in a list : 3\n",
      "The number of odd numbers in a list : 4\n"
     ]
    }
   ],
   "source": [
    "list1 = [2,4,4,3,77,1,5]\n",
    "odd = []\n",
    "even = []\n",
    "\n",
    "for i in range(0,len(list1)):\n",
    "    if (list1[i] % 2 == 0):\n",
    "        even.append(list1[i])\n",
    "    else:\n",
    "        odd.append(list1[i])\n",
    "print(\"The number of even numbers in a list :\",len(even))\n",
    "print(\"The number of odd numbers in a list :\",len(odd))\n",
    "    "
   ]
  },
  {
   "cell_type": "code",
   "execution_count": null,
   "id": "e96874d3-7ec9-408a-8d6a-afcabcd57897",
   "metadata": {},
   "outputs": [],
   "source": [
    "#Question7"
   ]
  },
  {
   "cell_type": "code",
   "execution_count": 37,
   "id": "6adb8340-fe36-49b0-ae65-94b83c11653a",
   "metadata": {},
   "outputs": [
    {
     "name": "stdout",
     "output_type": "stream",
     "text": [
      "The square of 1 is 1\n",
      "The square of 2 is 4\n",
      "The square of 3 is 9\n",
      "The square of 4 is 16\n",
      "The square of 5 is 25\n"
     ]
    }
   ],
   "source": [
    "for i in range(1,6):\n",
    "    square = i*i\n",
    "    print(f\"The square of {i} is {square}\")"
   ]
  },
  {
   "cell_type": "code",
   "execution_count": null,
   "id": "4fd4132a-61d9-4ff6-a19d-807174dba6fa",
   "metadata": {},
   "outputs": [],
   "source": [
    "#Question8"
   ]
  },
  {
   "cell_type": "code",
   "execution_count": 43,
   "id": "96535b6a-e79f-4a1c-b3d0-dfa4294e11d4",
   "metadata": {},
   "outputs": [
    {
     "name": "stdout",
     "output_type": "stream",
     "text": [
      "The length of a string is : 5\n"
     ]
    }
   ],
   "source": [
    "string = \"happy\"\n",
    "length = 0\n",
    "for char in string:\n",
    "    length += 1\n",
    "    \n",
    "print(f\"The length of a string is : {length}\")\n",
    "    "
   ]
  },
  {
   "cell_type": "code",
   "execution_count": null,
   "id": "aa5018ef-d527-4984-bd02-c184af5aa15e",
   "metadata": {},
   "outputs": [],
   "source": [
    "#Question9"
   ]
  },
  {
   "cell_type": "code",
   "execution_count": 40,
   "id": "67f65ef4-048f-4890-a584-c7107479a485",
   "metadata": {},
   "outputs": [
    {
     "name": "stdout",
     "output_type": "stream",
     "text": [
      "3.5\n"
     ]
    }
   ],
   "source": [
    "lst = [2,4,6,1,3,5]\n",
    "sum = 0\n",
    "for i in range(0,len(lst)):\n",
    "    sum = sum + lst[i]\n",
    "    \n",
    "average = sum / len(lst)\n",
    "print(average)"
   ]
  },
  {
   "cell_type": "code",
   "execution_count": null,
   "id": "a70a621c-7e3b-42cc-8560-fea42c5936b3",
   "metadata": {},
   "outputs": [],
   "source": [
    "#Question10"
   ]
  },
  {
   "cell_type": "code",
   "execution_count": 42,
   "id": "64308e60-622f-43d8-b34b-0f6b68d1afa5",
   "metadata": {},
   "outputs": [
    {
     "name": "stdout",
     "output_type": "stream",
     "text": [
      "0 1 1 2 3 5 8 13 21 34 "
     ]
    }
   ],
   "source": [
    "def print_fibonacci(n):\n",
    "    a, b = 0, 1\n",
    "    \n",
    "    for i in range(n):\n",
    "        print(a, end = \" \")\n",
    "        \n",
    "        a,b = b , a+b\n",
    "        \n",
    "n = 10\n",
    "print_fibonacci(n)"
   ]
  },
  {
   "cell_type": "code",
   "execution_count": 45,
   "id": "2ee5da81-bf2e-431d-b3c1-eecf6618ddab",
   "metadata": {},
   "outputs": [],
   "source": [
    "# Intermediate level"
   ]
  },
  {
   "cell_type": "code",
   "execution_count": null,
   "id": "eee4eb9c-cf70-4d73-8b5e-a8f346ea7b2d",
   "metadata": {},
   "outputs": [],
   "source": [
    "#Question11"
   ]
  },
  {
   "cell_type": "code",
   "execution_count": 5,
   "id": "c1e15a8c-39fb-4adf-ab00-16876740be50",
   "metadata": {},
   "outputs": [
    {
     "name": "stdout",
     "output_type": "stream",
     "text": [
      "The list contains duplicates\n"
     ]
    }
   ],
   "source": [
    "list1 = [1,2,3,4,5,2]\n",
    "if len(list1) != len(set(list1)):\n",
    "    print(\"The list contains duplicates\")\n",
    "else:\n",
    "    print(\"The list do not contain duplicates\")\n"
   ]
  },
  {
   "cell_type": "code",
   "execution_count": null,
   "id": "ae3305d6-2085-43de-8da7-77ef7808f9fd",
   "metadata": {},
   "outputs": [],
   "source": [
    "#Question12"
   ]
  },
  {
   "cell_type": "code",
   "execution_count": 1,
   "id": "d3de5da9-fc19-499c-a163-ae596ffa12b7",
   "metadata": {},
   "outputs": [
    {
     "name": "stdin",
     "output_type": "stream",
     "text": [
      "Enter the start of the range: 3\n",
      "Enter the end of the range 20\n"
     ]
    },
    {
     "name": "stdout",
     "output_type": "stream",
     "text": [
      "Prime numbers between 3 and 20 are :\n",
      "3\n",
      "5\n",
      "7\n",
      "11\n",
      "13\n",
      "17\n",
      "19\n"
     ]
    }
   ],
   "source": [
    "def is_prime(num):\n",
    "    if num < 2:\n",
    "        return False\n",
    "    for i in range(2,num):\n",
    "        if num % i == 0:\n",
    "            return False\n",
    "    return True\n",
    "\n",
    "start = int(input(\"Enter the start of the range:\"))\n",
    "end = int(input(\"Enter the end of the range\"))\n",
    "\n",
    "print(f\"Prime numbers between {start} and {end} are :\")\n",
    "\n",
    "for num in range(start, end+1):\n",
    "    if is_prime(num):\n",
    "        print(num)"
   ]
  },
  {
   "cell_type": "code",
   "execution_count": null,
   "id": "315ad841-61a5-428e-add0-fbed78645caf",
   "metadata": {},
   "outputs": [],
   "source": [
    "#Question13"
   ]
  },
  {
   "cell_type": "code",
   "execution_count": 1,
   "id": "e50b2f6e-4703-481f-ba4e-62102af825aa",
   "metadata": {},
   "outputs": [
    {
     "name": "stdin",
     "output_type": "stream",
     "text": [
      "Enter a string encyclopaedia\n"
     ]
    },
    {
     "name": "stdout",
     "output_type": "stream",
     "text": [
      "The number of vowels in the string is : 6\n"
     ]
    }
   ],
   "source": [
    "vowels = \"aeiouAEIOU\"\n",
    "count = 0\n",
    "input_string = input(\"Enter a string\")\n",
    "for char in input_string:\n",
    "    if char in vowels:\n",
    "        count += 1\n",
    "\n",
    "print(f\"The number of vowels in the string is : {count}\")"
   ]
  },
  {
   "cell_type": "code",
   "execution_count": 5,
   "id": "6f95b79e-7b7a-4e1c-8093-a505cc8c128f",
   "metadata": {},
   "outputs": [],
   "source": [
    "#Question14"
   ]
  },
  {
   "cell_type": "code",
   "execution_count": 4,
   "id": "f2972d42-7f39-4429-8ec9-10b53555ad85",
   "metadata": {},
   "outputs": [
    {
     "name": "stdout",
     "output_type": "stream",
     "text": [
      "The maximum element in the 2D list is : 90\n"
     ]
    }
   ],
   "source": [
    "def find_max_in_2d_list(two_d_list):\n",
    "    max_element = two_d_list[0][0]\n",
    "    \n",
    "    for row in two_d_list:\n",
    "        for element in row:\n",
    "            if element > max_element:\n",
    "                max_element = element\n",
    "    return max_element\n",
    "\n",
    "two_d_list = [\n",
    "    [12, 34, 45],\n",
    "    [78, 56, 89],\n",
    "    [23, 67, 90]\n",
    "]\n",
    "\n",
    "max_element = find_max_in_2d_list(two_d_list)\n",
    "print(\"The maximum element in the 2D list is :\",max_element)"
   ]
  },
  {
   "cell_type": "code",
   "execution_count": null,
   "id": "b714ceb4-0a4f-416d-926d-06391332c798",
   "metadata": {},
   "outputs": [],
   "source": [
    "#Question15"
   ]
  },
  {
   "cell_type": "code",
   "execution_count": 9,
   "id": "177cfc8c-9764-4f64-bb2d-ad761dcaad58",
   "metadata": {},
   "outputs": [
    {
     "name": "stdout",
     "output_type": "stream",
     "text": [
      "List after removing all occurences of 2 : [1, 3, 4, 5, 6]\n"
     ]
    }
   ],
   "source": [
    "def remove_all_occurences(input_list,element_to_remove):\n",
    "    result_list = []\n",
    "    \n",
    "    for element in input_list:\n",
    "        if element != element_to_remove:\n",
    "            result_list.append(element)\n",
    "            \n",
    "    return result_list\n",
    "\n",
    "input_list = [1, 2, 3, 4, 2, 5, 2, 6]\n",
    "element_to_remove = 2\n",
    "\n",
    "result_list = remove_all_occurences(input_list, element_to_remove)\n",
    "print(\"List after removing all occurences of\", element_to_remove,\":\", result_list)"
   ]
  },
  {
   "cell_type": "code",
   "execution_count": 7,
   "id": "e235ae7d-773b-452e-838c-e1dc28408820",
   "metadata": {},
   "outputs": [],
   "source": [
    "#Question16"
   ]
  },
  {
   "cell_type": "code",
   "execution_count": 13,
   "id": "80b8d455-eb9f-422a-ae3a-511a905f83ef",
   "metadata": {},
   "outputs": [
    {
     "name": "stdout",
     "output_type": "stream",
     "text": [
      "1 * 1 = 1\n",
      "1 * 2 = 2\n",
      "1 * 3 = 3\n",
      "1 * 4 = 4\n",
      "1 * 5 = 5\n",
      "1 * 6 = 6\n",
      "1 * 7 = 7\n",
      "1 * 8 = 8\n",
      "1 * 9 = 9\n",
      "1 * 10 = 10\n",
      "\n",
      "2 * 1 = 2\n",
      "2 * 2 = 4\n",
      "2 * 3 = 6\n",
      "2 * 4 = 8\n",
      "2 * 5 = 10\n",
      "2 * 6 = 12\n",
      "2 * 7 = 14\n",
      "2 * 8 = 16\n",
      "2 * 9 = 18\n",
      "2 * 10 = 20\n",
      "\n",
      "3 * 1 = 3\n",
      "3 * 2 = 6\n",
      "3 * 3 = 9\n",
      "3 * 4 = 12\n",
      "3 * 5 = 15\n",
      "3 * 6 = 18\n",
      "3 * 7 = 21\n",
      "3 * 8 = 24\n",
      "3 * 9 = 27\n",
      "3 * 10 = 30\n",
      "\n",
      "4 * 1 = 4\n",
      "4 * 2 = 8\n",
      "4 * 3 = 12\n",
      "4 * 4 = 16\n",
      "4 * 5 = 20\n",
      "4 * 6 = 24\n",
      "4 * 7 = 28\n",
      "4 * 8 = 32\n",
      "4 * 9 = 36\n",
      "4 * 10 = 40\n",
      "\n",
      "5 * 1 = 5\n",
      "5 * 2 = 10\n",
      "5 * 3 = 15\n",
      "5 * 4 = 20\n",
      "5 * 5 = 25\n",
      "5 * 6 = 30\n",
      "5 * 7 = 35\n",
      "5 * 8 = 40\n",
      "5 * 9 = 45\n",
      "5 * 10 = 50\n",
      "\n"
     ]
    }
   ],
   "source": [
    "for i in range(1,6):\n",
    "    for j in range(1,11):\n",
    "        multi = i*j\n",
    "        print(f\"{i} * {j} = {multi}\")\n",
    "    print(\"\")"
   ]
  },
  {
   "cell_type": "code",
   "execution_count": null,
   "id": "6a4d6b58-fc9d-431b-8f90-386a13b065d0",
   "metadata": {},
   "outputs": [],
   "source": [
    "#Question17"
   ]
  },
  {
   "cell_type": "code",
   "execution_count": 15,
   "id": "18ecbaff-c3aa-443c-91fd-cc2df222e319",
   "metadata": {},
   "outputs": [
    {
     "name": "stdout",
     "output_type": "stream",
     "text": [
      "[39.0, 40.0, 50.0, 60.0]\n"
     ]
    }
   ],
   "source": [
    "list_fahrenheit = [102.2, 104.0, 122.0, 140.0]\n",
    "\n",
    "list_celcius = []\n",
    "\n",
    "for element in list_fahrenheit:\n",
    "    temp = (element - 32) * 5/9\n",
    "    list_celcius.append(temp)\n",
    "    \n",
    "print(list_celcius)"
   ]
  },
  {
   "cell_type": "code",
   "execution_count": null,
   "id": "929301f0-3f87-4605-9a0b-a26d04bfd48f",
   "metadata": {},
   "outputs": [],
   "source": [
    "#Question18"
   ]
  },
  {
   "cell_type": "code",
   "execution_count": 21,
   "id": "6f5fedba-3ee5-4408-95fa-6ba3272bbc51",
   "metadata": {},
   "outputs": [
    {
     "name": "stdout",
     "output_type": "stream",
     "text": [
      "Common elements : [1, 2, 5]\n"
     ]
    }
   ],
   "source": [
    "list1 = [1, 2, 3, 4, 5, 6, 7]\n",
    "list2 = [1, 2, 8, 9, 5]\n",
    "\n",
    "common_elements = []\n",
    "\n",
    "for element in list1:\n",
    "    if element in list2:\n",
    "        common_elements.append(element)\n",
    "        \n",
    "print(\"Common elements :\",common_elements)"
   ]
  },
  {
   "cell_type": "code",
   "execution_count": 12,
   "id": "62e266b5-b71a-4cca-aff6-9d2a3c2f77fd",
   "metadata": {},
   "outputs": [],
   "source": [
    "#Question19"
   ]
  },
  {
   "cell_type": "code",
   "execution_count": 15,
   "id": "4b6c1862-b78b-46de-aed0-610bade91fbd",
   "metadata": {},
   "outputs": [
    {
     "name": "stdout",
     "output_type": "stream",
     "text": [
      "*\n",
      "**\n",
      "***\n",
      "****\n",
      "*****\n",
      "\n"
     ]
    }
   ],
   "source": [
    "for i in range(1,6):\n",
    "    print(\"*\"*i)\n",
    "print(\"\")"
   ]
  },
  {
   "cell_type": "code",
   "execution_count": null,
   "id": "13752bd2-f80e-4533-9c1d-c4d233b43988",
   "metadata": {},
   "outputs": [],
   "source": [
    "#Question20"
   ]
  },
  {
   "cell_type": "code",
   "execution_count": 16,
   "id": "15ec6c89-e47f-48ce-982e-3a4ade6f85b4",
   "metadata": {},
   "outputs": [
    {
     "name": "stdout",
     "output_type": "stream",
     "text": [
      "The GCD of 48 and 18 is 6\n"
     ]
    }
   ],
   "source": [
    "def find_gcd(a, b):\n",
    "    smaller = min(a, b)\n",
    "    \n",
    "    gcd = 1\n",
    "    \n",
    "    for i in range(1,smaller + 1):\n",
    "        if a % i == 0 and b % i == 0:\n",
    "            gcd = i\n",
    "            \n",
    "    return gcd\n",
    "\n",
    "num1 = 48\n",
    "num2 = 18\n",
    "print(f\"The GCD of {num1} and {num2} is {find_gcd(num1,num2)}\")"
   ]
  },
  {
   "cell_type": "code",
   "execution_count": null,
   "id": "2f77fecc-1689-453e-a4ef-27068ddac6f5",
   "metadata": {},
   "outputs": [],
   "source": [
    "#Advanced level"
   ]
  },
  {
   "cell_type": "code",
   "execution_count": null,
   "id": "afed78d9-005b-408c-bc04-af86370b131c",
   "metadata": {},
   "outputs": [],
   "source": [
    "#Question21"
   ]
  },
  {
   "cell_type": "code",
   "execution_count": 4,
   "id": "7eb32362-9f1b-474e-9333-e4f2341a3dee",
   "metadata": {},
   "outputs": [
    {
     "name": "stdout",
     "output_type": "stream",
     "text": [
      "The sum of digits of the numbers in the list is : [6, 15, 24, 2]\n"
     ]
    }
   ],
   "source": [
    "lst = [123, 456, 789, 101]\n",
    "sum_of_digits = [sum(int(digit) for digit in str(num)) for num in lst]\n",
    "print(f\"The sum of digits of the numbers in the list is : {sum_of_digits}\")"
   ]
  },
  {
   "cell_type": "code",
   "execution_count": null,
   "id": "ef1981f0-98b2-44f5-b4a6-1aed10eedd94",
   "metadata": {},
   "outputs": [],
   "source": [
    "#Question22"
   ]
  },
  {
   "cell_type": "code",
   "execution_count": 5,
   "id": "da008ea8-0abf-4180-a8c5-c6326a7e5fa3",
   "metadata": {},
   "outputs": [
    {
     "name": "stdin",
     "output_type": "stream",
     "text": [
      "Enter a number : 27\n"
     ]
    },
    {
     "name": "stdout",
     "output_type": "stream",
     "text": [
      "[1, 3, 9, 27]\n"
     ]
    }
   ],
   "source": [
    "n = int(input(\"Enter a number :\"))\n",
    "digits = [i for i in range(1, n+1) if n % i == 0 ]\n",
    "print(digits)"
   ]
  },
  {
   "cell_type": "code",
   "execution_count": null,
   "id": "7cfa2042-1fac-4102-b1ad-8190ce388542",
   "metadata": {},
   "outputs": [],
   "source": [
    "#Question23"
   ]
  },
  {
   "cell_type": "code",
   "execution_count": 10,
   "id": "fdd7e2de-c28b-4e07-8743-a0ef92fdbf91",
   "metadata": {},
   "outputs": [
    {
     "name": "stdout",
     "output_type": "stream",
     "text": [
      "[1, 2, 3, 4, 11, 22, 7, 9]\n"
     ]
    }
   ],
   "source": [
    "original_list = [1, 2, 3, 4, 4 ,3, 11, 22, 7, 9, 2]\n",
    "\n",
    "unique_list = [element for index,element in enumerate(original_list) if element not in original_list[:index]]\n",
    "\n",
    "print(unique_list)"
   ]
  },
  {
   "cell_type": "code",
   "execution_count": null,
   "id": "1ee25a4e-95a3-462a-8fed-e190e80433ac",
   "metadata": {},
   "outputs": [],
   "source": [
    "#Qurstion24"
   ]
  },
  {
   "cell_type": "code",
   "execution_count": 17,
   "id": "66dc745a-cfab-4d51-9c59-69c30b67e852",
   "metadata": {},
   "outputs": [
    {
     "name": "stdout",
     "output_type": "stream",
     "text": [
      "[11, 22, 33, 44, 55, 66, 77, 88, 99, 101]\n"
     ]
    }
   ],
   "source": [
    "palindrome_numbers = [i for i in range(11,102) if i == int(str(i)[::-1])]\n",
    "print(palindrome_numbers)"
   ]
  },
  {
   "cell_type": "code",
   "execution_count": null,
   "id": "1349b2e5-7fce-4770-ba41-0d864bc53941",
   "metadata": {},
   "outputs": [],
   "source": [
    "#Question25"
   ]
  },
  {
   "cell_type": "code",
   "execution_count": 3,
   "id": "9e02765b-3986-4b42-9b79-ac609693af85",
   "metadata": {},
   "outputs": [
    {
     "name": "stdout",
     "output_type": "stream",
     "text": [
      "[1, 2, 3, 4, 5, 6, 7, 8, 9]\n"
     ]
    }
   ],
   "source": [
    "nested_list = [[1, 2, 3, 4], [5, 6], [7, 8, 9]]\n",
    "\n",
    "flattened_list = [item for sublist in nested_list for item in (sublist if isinstance(sublist, list) else [sublist])]\n",
    "\n",
    "print(flattened_list)"
   ]
  },
  {
   "cell_type": "code",
   "execution_count": null,
   "id": "d59e589c-cff4-4896-844e-057c643b27da",
   "metadata": {},
   "outputs": [],
   "source": [
    "#Question26"
   ]
  },
  {
   "cell_type": "code",
   "execution_count": 8,
   "id": "eb4b6550-e052-44dc-9698-4e09759803fd",
   "metadata": {},
   "outputs": [
    {
     "name": "stdout",
     "output_type": "stream",
     "text": [
      "Sum of even numbers : 30\n",
      "Sum of odd numbers : 25\n"
     ]
    }
   ],
   "source": [
    "list1 = [1, 2, 3, 4, 5, 6, 7, 8, 9, 10]\n",
    "\n",
    "even_sum = sum([num for num in list1  if num % 2 == 0 ])\n",
    "\n",
    "odd_sum = sum([num for num in list1 if num % 2 != 0 ])\n",
    "\n",
    "print(\"Sum of even numbers :\", even_sum)\n",
    "print(\"Sum of odd numbers :\", odd_sum)"
   ]
  },
  {
   "cell_type": "code",
   "execution_count": null,
   "id": "47888815-cbb6-4320-8ee5-2b26c504337c",
   "metadata": {},
   "outputs": [],
   "source": [
    "#Question27"
   ]
  },
  {
   "cell_type": "code",
   "execution_count": 13,
   "id": "b6cad9cb-d1dc-409d-8620-5ba210194143",
   "metadata": {},
   "outputs": [
    {
     "name": "stdout",
     "output_type": "stream",
     "text": [
      "[1, 9, 25, 49, 81]\n"
     ]
    }
   ],
   "source": [
    "odd_list = [(i*i) for i in range(1,11) if i % 2 != 0]\n",
    "print(odd_list)"
   ]
  },
  {
   "cell_type": "code",
   "execution_count": null,
   "id": "b1fc8fad-70b6-4e37-a7d0-ffc9a4952c46",
   "metadata": {},
   "outputs": [],
   "source": [
    "#Question28"
   ]
  },
  {
   "cell_type": "code",
   "execution_count": 1,
   "id": "832128bc-5a7c-41f1-99fe-7f624ff70096",
   "metadata": {},
   "outputs": [
    {
     "name": "stdout",
     "output_type": "stream",
     "text": [
      "{'a': 1, 'b': 2, 'c': 3, 'd': 4}\n"
     ]
    }
   ],
   "source": [
    "keys = ['a', 'b', 'c', 'd']\n",
    "values = [1, 2, 3, 4]\n",
    "\n",
    "result = {keys[i]: values[i] for i in range (len(keys))}\n",
    "\n",
    "print(result)"
   ]
  },
  {
   "cell_type": "code",
   "execution_count": null,
   "id": "1047f0b1-1c1d-4098-beeb-d4ef26ca3968",
   "metadata": {},
   "outputs": [],
   "source": [
    "#Question29"
   ]
  },
  {
   "cell_type": "code",
   "execution_count": 13,
   "id": "d6dd19ae-11ed-493f-b1b5-4e08d7fb1524",
   "metadata": {},
   "outputs": [
    {
     "name": "stdout",
     "output_type": "stream",
     "text": [
      "['a', 'i', 'e']\n"
     ]
    }
   ],
   "source": [
    "str = \"happiness\"\n",
    "vowels = \"aeiouAEIOU\"\n",
    "\n",
    "vowel_list = [char for char in str if char in vowels]\n",
    "\n",
    "print(vowel_list)"
   ]
  },
  {
   "cell_type": "code",
   "execution_count": null,
   "id": "d4d5e04b-3283-44f3-962b-58799b3df0ee",
   "metadata": {},
   "outputs": [],
   "source": [
    "#Question30"
   ]
  },
  {
   "cell_type": "code",
   "execution_count": 17,
   "id": "660f0865-4e1f-495e-bf79-398710df8962",
   "metadata": {},
   "outputs": [
    {
     "name": "stdout",
     "output_type": "stream",
     "text": [
      "['123', '1234', '789']\n"
     ]
    }
   ],
   "source": [
    "string_list = [\"abc123\", \"hello1234\", \"789xyz\"]\n",
    "\n",
    "new_list = [''.join([char for char in s if char.isdigit()]) for s in string_list]\n",
    "\n",
    "print(new_list)"
   ]
  },
  {
   "cell_type": "code",
   "execution_count": null,
   "id": "cba9cdf3-f94c-455c-937b-39c5c16ece8a",
   "metadata": {},
   "outputs": [],
   "source": [
    "# Challenge level"
   ]
  },
  {
   "cell_type": "code",
   "execution_count": null,
   "id": "9ee499cf-3e10-4d01-b4f5-f6cc5721c454",
   "metadata": {},
   "outputs": [],
   "source": [
    "#Question31"
   ]
  },
  {
   "cell_type": "code",
   "execution_count": 20,
   "id": "806c80dd-c834-4959-a575-f17a068902b1",
   "metadata": {},
   "outputs": [
    {
     "name": "stdout",
     "output_type": "stream",
     "text": [
      "[2, 3, 5, 7, 11, 13, 17, 19, 23, 29, 31, 37]\n"
     ]
    }
   ],
   "source": [
    "def sieve_of_eratosthenes(limit):\n",
    "    if limit < 2:\n",
    "        return [] \n",
    "    \n",
    "    is_prime = [True] * (limit + 1)\n",
    "    is_prime[0] = is_prime[1] = False \n",
    "\n",
    "    p = 2\n",
    "    while p * p <= limit:\n",
    "        if is_prime[p]:\n",
    "            for multiple in range(p * p, limit + 1, p):\n",
    "                is_prime[multiple] = False\n",
    "        p += 1\n",
    "        \n",
    "    primes = [num for num, prime in enumerate(is_prime) if prime]\n",
    "    \n",
    "    return primes\n",
    "\n",
    "limit = 40\n",
    "primes = sieve_of_eratosthenes(limit)\n",
    "print(primes)"
   ]
  },
  {
   "cell_type": "code",
   "execution_count": null,
   "id": "faad9583-260b-4a1e-997d-bd0428fc115a",
   "metadata": {},
   "outputs": [],
   "source": [
    "#Question32"
   ]
  },
  {
   "cell_type": "code",
   "execution_count": 2,
   "id": "558ef4d0-d9df-4215-822b-ae1de08419e5",
   "metadata": {},
   "outputs": [
    {
     "name": "stdout",
     "output_type": "stream",
     "text": [
      "[(3, 4, 5), (5, 12, 13), (6, 8, 10), (8, 15, 17), (9, 12, 15), (12, 16, 20)]\n"
     ]
    }
   ],
   "source": [
    "def generate_pythagorean_triplets(limit):\n",
    "    \n",
    "    triplets = [\n",
    "        (a, b, c)\n",
    "        for a in range(1, limit + 1)\n",
    "        for b in range(a, limit + 1)  \n",
    "        for c in range(b, limit + 1) \n",
    "        if a**2 + b**2 == c**2\n",
    "    ]\n",
    "    return triplets\n",
    "\n",
    "\n",
    "limit = 20\n",
    "triplets = generate_pythagorean_triplets(limit)\n",
    "print(triplets)"
   ]
  },
  {
   "cell_type": "code",
   "execution_count": null,
   "id": "b6058f68-bf3f-4789-96a8-8e5342d7843c",
   "metadata": {},
   "outputs": [],
   "source": [
    "#Question33"
   ]
  },
  {
   "cell_type": "code",
   "execution_count": 3,
   "id": "6ab2347f-df1d-417f-8b22-b02361902fdf",
   "metadata": {},
   "outputs": [
    {
     "name": "stdout",
     "output_type": "stream",
     "text": [
      "[(1, 'a'), (1, 'b'), (1, 'c'), (2, 'a'), (2, 'b'), (2, 'c'), (3, 'a'), (3, 'b'), (3, 'c')]\n"
     ]
    }
   ],
   "source": [
    "list1 = [1, 2, 3]\n",
    "list2 = ['a', 'b', 'c']\n",
    "\n",
    "combinations = [(x,y) for x in list1 for y in list2]\n",
    "\n",
    "print(combinations)"
   ]
  },
  {
   "cell_type": "code",
   "execution_count": null,
   "id": "ace7ff18-d0fb-4669-99ca-00276fe9964e",
   "metadata": {},
   "outputs": [],
   "source": [
    "#Question34"
   ]
  },
  {
   "cell_type": "code",
   "execution_count": 5,
   "id": "359e054f-3175-4796-852c-c6932cdf98b6",
   "metadata": {},
   "outputs": [
    {
     "name": "stdout",
     "output_type": "stream",
     "text": [
      "Mean: 3.4444444444444446\n",
      "Median: 4\n",
      "Mode: [4]\n"
     ]
    }
   ],
   "source": [
    "from collections import Counter\n",
    "\n",
    "def calculate_mean(numbers):\n",
    "    mean = sum(numbers) / len(numbers)\n",
    "    return mean\n",
    "\n",
    "def calculate_median(numbers):\n",
    "    sorted_numbers = sorted(numbers)\n",
    "    n = len(sorted_numbers)\n",
    "    median = (sorted_numbers[n//2] if n % 2 != 0 else \n",
    "              (sorted_numbers[n//2 - 1] + sorted_numbers[n//2]) / 2)\n",
    "    return median\n",
    "\n",
    "def calculate_mode(numbers):\n",
    "    count = Counter(numbers)\n",
    "    max_count = max(count.values())\n",
    "    mode = [num for num, freq in count.items() if freq == max_count]\n",
    "    if len(mode) == len(numbers):\n",
    "        mode = []  \n",
    "    return mode\n",
    "\n",
    "numbers = [1, 2, 2, 3, 4, 4, 4, 5, 6]\n",
    "\n",
    "mean = calculate_mean(numbers)\n",
    "median = calculate_median(numbers)\n",
    "mode = calculate_mode(numbers)\n",
    "\n",
    "print(f\"Mean: {mean}\")\n",
    "print(f\"Median: {median}\")\n",
    "print(f\"Mode: {mode}\")"
   ]
  },
  {
   "cell_type": "code",
   "execution_count": null,
   "id": "847f6dc4-6cac-4d2a-a6bd-b6da925fffe8",
   "metadata": {},
   "outputs": [],
   "source": [
    "#Question35"
   ]
  },
  {
   "cell_type": "code",
   "execution_count": 6,
   "id": "dbcf21d2-529c-4c84-9f46-e29bd1057661",
   "metadata": {},
   "outputs": [
    {
     "name": "stdout",
     "output_type": "stream",
     "text": [
      "[1]\n",
      "[1, 1]\n",
      "[1, 2, 1]\n",
      "[1, 3, 3, 1]\n",
      "[1, 4, 6, 4, 1]\n"
     ]
    }
   ],
   "source": [
    "def generate_pascals_triangle(n):\n",
    "    triangle = [[1] * (i + 1) for i in range(n)]\n",
    "    for i in range(2, n):\n",
    "        triangle[i] = [1 if j == 0 or j == i else triangle[i-1][j-1] + triangle[i-1][j] for j in range(i + 1)]\n",
    "    return triangle\n",
    "\n",
    "num_rows = 5\n",
    "pascals_triangle = generate_pascals_triangle(num_rows)\n",
    "\n",
    "for row in pascals_triangle:\n",
    "    print(row)"
   ]
  },
  {
   "cell_type": "code",
   "execution_count": null,
   "id": "e4b3ab77-1dcc-4770-bdf1-fb9675a72b01",
   "metadata": {},
   "outputs": [],
   "source": [
    "#Question36"
   ]
  },
  {
   "cell_type": "code",
   "execution_count": 7,
   "id": "3821580b-546e-4bc7-b659-7f701bbba184",
   "metadata": {},
   "outputs": [
    {
     "name": "stdout",
     "output_type": "stream",
     "text": [
      "Sum of digits of 1! is: 1\n",
      "Sum of digits of 2! is: 2\n",
      "Sum of digits of 3! is: 6\n",
      "Sum of digits of 4! is: 6\n",
      "Sum of digits of 5! is: 3\n"
     ]
    }
   ],
   "source": [
    "import math\n",
    "\n",
    "def sum_of_digits_factorial(n):\n",
    "    factorial = math.factorial(n)\n",
    "    return sum(int(digit) for digit in str(factorial))\n",
    "\n",
    "results = [sum_of_digits_factorial(i) for i in range(1, 6)]\n",
    "\n",
    "for i, result in enumerate(results, start=1):\n",
    "    print(f\"Sum of digits of {i}! is: {result}\")"
   ]
  },
  {
   "cell_type": "code",
   "execution_count": 8,
   "id": "549abc22-32b7-4435-b9ad-301ba5845309",
   "metadata": {},
   "outputs": [],
   "source": [
    "#Question37"
   ]
  },
  {
   "cell_type": "code",
   "execution_count": 10,
   "id": "a6ed6893-61d8-43a9-b385-be8dc748f01a",
   "metadata": {},
   "outputs": [
    {
     "name": "stdout",
     "output_type": "stream",
     "text": [
      "The longest word is: 'better'\n"
     ]
    }
   ],
   "source": [
    "def find_longest_word(sentence):\n",
    "    words = sentence.split()\n",
    "    longest_word = max([word for word in words], key=len)\n",
    "    return longest_word\n",
    "\n",
    "sentence = \"I am good but you are better\"\n",
    "longest_word = find_longest_word(sentence)\n",
    "\n",
    "print(f\"The longest word is: '{longest_word}'\")"
   ]
  },
  {
   "cell_type": "code",
   "execution_count": null,
   "id": "d03b1b39-84e2-4f47-88ea-4558d7db215d",
   "metadata": {},
   "outputs": [],
   "source": [
    "#Question38"
   ]
  },
  {
   "cell_type": "code",
   "execution_count": 11,
   "id": "33edf175-604c-4ec2-9a7a-e593c10c0bc8",
   "metadata": {},
   "outputs": [
    {
     "name": "stdout",
     "output_type": "stream",
     "text": [
      "Words with more than three vowels: ['beautiful', 'education']\n"
     ]
    }
   ],
   "source": [
    "def count_vowels(word):\n",
    "    vowels = 'aeiouAEIOU'\n",
    "    return sum(1 for char in word if char in vowels)\n",
    "\n",
    "def filter_words_with_vowels(words):\n",
    "    filtered_words = [word for word in words if count_vowels(word) > 3]\n",
    "    return filtered_words\n",
    "\n",
    "words_list = [\"hello\", \"beautiful\", \"world\", \"umbrella\", \"education\", \"rhythm\"]\n",
    "filtered_list = filter_words_with_vowels(words_list)\n",
    "\n",
    "print(f\"Words with more than three vowels: {filtered_list}\")"
   ]
  },
  {
   "cell_type": "code",
   "execution_count": null,
   "id": "cd442341-a49e-4549-911e-449806326c61",
   "metadata": {},
   "outputs": [],
   "source": [
    "#Question39"
   ]
  },
  {
   "cell_type": "code",
   "execution_count": 12,
   "id": "ee2ce5de-dbb6-4a12-acf6-9cd350824390",
   "metadata": {},
   "outputs": [
    {
     "name": "stdout",
     "output_type": "stream",
     "text": [
      "The sum of the digits of numbers from 1 to 1000 is: 13501\n"
     ]
    }
   ],
   "source": [
    "def sum_of_digits(n):\n",
    "    return sum(int(digit) for digit in str(n))\n",
    "\n",
    "sum_of_all_digits = sum(sum_of_digits(i) for i in range(1, 1001))\n",
    "\n",
    "print(f\"The sum of the digits of numbers from 1 to 1000 is: {sum_of_all_digits}\")"
   ]
  },
  {
   "cell_type": "code",
   "execution_count": null,
   "id": "628745b7-26da-4e5b-a520-c0a0c4098a60",
   "metadata": {},
   "outputs": [],
   "source": [
    "#Question40"
   ]
  },
  {
   "cell_type": "code",
   "execution_count": 16,
   "id": "b7ec7c68-7a5b-4f8b-b788-4ee33a6f1876",
   "metadata": {},
   "outputs": [
    {
     "name": "stdout",
     "output_type": "stream",
     "text": [
      "Prime palindromic numbers: [2, 3, 5, 7, 11, 101, 131, 151, 181, 191]\n"
     ]
    }
   ],
   "source": [
    "def is_prime(n):\n",
    "    if n < 2:\n",
    "        return False\n",
    "    for i in range(2, int(n**0.5) + 1):\n",
    "        if n % i == 0:\n",
    "            return False\n",
    "    return True\n",
    "\n",
    "def is_palindrome(n):\n",
    "    return str(n) == str(n)[:: -1]\n",
    "\n",
    "def prime_palindromes(limit):\n",
    "    return [n for n in range(2, limit+1) if is_prime(n) and is_palindrome(n)]\n",
    "\n",
    "limit = 200\n",
    "palindromic_primes = prime_palindromes(limit)\n",
    "\n",
    "print(f\"Prime palindromic numbers: {palindromic_primes}\")"
   ]
  }
 ],
 "metadata": {
  "kernelspec": {
   "display_name": "Python 3 (ipykernel)",
   "language": "python",
   "name": "python3"
  },
  "language_info": {
   "codemirror_mode": {
    "name": "ipython",
    "version": 3
   },
   "file_extension": ".py",
   "mimetype": "text/x-python",
   "name": "python",
   "nbconvert_exporter": "python",
   "pygments_lexer": "ipython3",
   "version": "3.10.8"
  }
 },
 "nbformat": 4,
 "nbformat_minor": 5
}
